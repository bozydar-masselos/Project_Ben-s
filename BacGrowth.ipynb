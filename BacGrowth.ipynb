{
 "cells": [
  {
   "cell_type": "markdown",
   "metadata": {},
   "source": [
    "PART1"
   ]
  },
  {
   "cell_type": "code",
   "execution_count": null,
   "metadata": {},
   "outputs": [],
   "source": [
    "import csv\n",
    "import os\n",
    "n0_ex1={}\n",
    "n5_ex1={}\n",
    "t_ex1={}\n",
    "with open(\"./experiments_1.csv\") as exp1_file:\n",
    "    exp1_data= csv.DictReader(exp1_file)\n",
    "    cntr1=0\n",
    "    for row in exp1_data:\n",
    "        n0_ex1[cntr1]= float(row['n0'])\n",
    "        t_ex1[cntr1]= float(row['t'])\n",
    "        n5_ex1[cntr1]= float(row['n5']) \n",
    "        cntr1+=1"
   ]
  },
  {
   "cell_type": "code",
   "execution_count": null,
   "metadata": {},
   "outputs": [],
   "source": [
    "def growth_function(temp,lastday_mass,endday):  \n",
    "    if endday == 0:\n",
    "        raise ValueError(\"Can only calculate for one day or more!\")\n",
    "    nextday_mass=round(temp*lastday_mass,4)\n",
    "    if nextday_mass<=0:\n",
    "        return 0.0\n",
    "    elif endday == 1: \n",
    "        return nextday_mass\n",
    "    return growth_function(temp, nextday_mass, (endday-1))"
   ]
  },
  {
   "cell_type": "code",
   "execution_count": 57,
   "metadata": {},
   "outputs": [],
   "source": [
    "def add_new_csv_column(file_path,column_name,dict_data): \n",
    "    new_column_values=[]\n",
    "    local_dic=dict_data\n",
    "    with open(file_path, 'r', newline='') as exp1_file:\n",
    "        reader= list(csv.reader(exp1_file))\n",
    "        header= reader[0]+[column_name]\n",
    "        for i,row in enumerate(reader[1:]):\n",
    "            \n",
    "            new_value=local_dic[i]\n",
    "            new_column_values.append(new_value)             #This line is not necessary. it just has the values of n5exp dic without the keys as a list. \n",
    "            row.append(str(new_value))\n",
    "        \n",
    "    with open(file_path, 'w', newline='') as exp1_file:\n",
    "    \n",
    "            writer = csv.writer(exp1_file)\n",
    "            writer.writerow(header)             # Write updated header\n",
    "            writer.writerows(reader[1:])        # Write updated data\n",
    "    return print('column added:', column_name,'values added:', new_column_values)\n",
    "\n"
   ]
  },
  {
   "cell_type": "code",
   "execution_count": null,
   "metadata": {},
   "outputs": [],
   "source": [
    "n5exp={}\n",
    "for j in range(0,cntr1):\n",
    "    n5exp[j]= (growth_function(t_ex1[j],n0_ex1[j],5))"
   ]
  },
  {
   "cell_type": "code",
   "execution_count": 59,
   "metadata": {},
   "outputs": [
    {
     "name": "stdout",
     "output_type": "stream",
     "text": [
      "column added: n5expected values added: [0.5, 16.1051, 0.8053, 10.0, 3.7968, 3.2, 3.7968, 121.5, 121.5, 3.0396, 7.9575, 21.1347, 0.0005, 92.3334, 1.4753, 359.971, 14.3949, 0.0624, 13.1921, 4.2256, 2.27, 24.2569, 53.0125, 0.0097, 103.4722, 0.2111, 0.0, 0.287, 0.628, 20.432, 14.592, 261.7609, 0.0758, 0.0, 0.0377, 0.0167, 7.3876, 93.7372, 0.0004, 3.9799, 0.0076, 238.4115, 0.5954, 35.7849, 0.0222, 32.1575, 2.4898, 0.0635, 15.9309, 54.3967, 67.5631]\n"
     ]
    }
   ],
   "source": [
    "add_new_csv_column(\"./experiments_1.csv\", \"n5expected\", n5exp)  ##THIS COMMANDS WRITES RESULTS FOR PART1\n"
   ]
  },
  {
   "cell_type": "markdown",
   "metadata": {},
   "source": [
    "PART 2"
   ]
  },
  {
   "cell_type": "code",
   "execution_count": 64,
   "metadata": {},
   "outputs": [],
   "source": [
    "##Part 2\n",
    "underpressure={}\n",
    "underpressure_inf={}\n",
    "n0_ex2={}\n",
    "n5_ex2={}\n",
    "t_ex2={}\n",
    "prsr_ex2={}\n",
    "with open(\"./experiments_2.csv\") as exp2_file:\n",
    "    exp2_data= csv.DictReader(exp2_file)\n",
    "    cntr2=0\n",
    "    for row in exp2_data:\n",
    "        n0_ex2[cntr2]= float(row['n0'])\n",
    "        t_ex2[cntr2]= float(row['t'])\n",
    "        n5_ex2[cntr2]= float(row['n5']) \n",
    "        prsr_ex2[cntr2]=float(row['p']) \n",
    "        cntr2+=1"
   ]
  },
  {
   "cell_type": "code",
   "execution_count": 61,
   "metadata": {},
   "outputs": [],
   "source": [
    "def growth_fun_under_pressure(temp,pressure,lastday_mass,endday):\n",
    "    if endday == 0:\n",
    "        raise ValueError(\"Can only calculate growth for one or more days\")\n",
    "    nextday_mass= (temp*lastday_mass)-(pressure*(lastday_mass ** 2))\n",
    "    if nextday_mass<=0:\n",
    "        return 0.0 \n",
    "    if endday == 1 : \n",
    "        return round(float(nextday_mass),4)\n",
    "    return growth_fun_under_pressure(temp, pressure, nextday_mass, (endday-1))"
   ]
  },
  {
   "cell_type": "code",
   "execution_count": 62,
   "metadata": {},
   "outputs": [
    {
     "name": "stdout",
     "output_type": "stream",
     "text": [
      "{0: 0.0, 1: 0.0, 2: 0.1689, 3: 0.0, 4: 0.5, 5: 0.4996, 6: 0.9485, 7: 1.797, 8: 1.0, 9: 0.0, 10: 0.5353, 11: 0.0, 12: 0.0004, 13: 1.4463, 14: 1.4753, 15: 1.0672, 16: 0.5298, 17: 0.0138, 18: 0.0, 19: 0.2823, 20: 0.2237, 21: 0.8097, 22: 0.8572, 23: 0.0057, 24: 0.599, 25: 0.0178, 26: 0.0, 27: 0.0675, 28: 0.173, 29: 1.0454, 30: 0.4296, 31: 1.422, 32: 0.0591, 33: 0.0, 34: 0.0216, 35: 0.0073, 36: 0.3116, 37: 1.9242, 38: 0.0001, 39: 0.3192, 40: 0.0016, 41: 1.7067, 42: 0.1881, 43: 35.7849, 44: 0.0222, 45: 0.724, 46: 2.4898, 47: 0.0, 48: 1.0506, 49: 54.3968, 50: 0.8056}\n"
     ]
    }
   ],
   "source": [
    "for j in range(0,cntr2): \n",
    "    underpressure[j]=growth_fun_under_pressure(t_ex2[j], prsr_ex2[j], n0_ex2[j], 5)\n",
    "\n",
    "print(underpressure)"
   ]
  },
  {
   "cell_type": "code",
   "execution_count": 72,
   "metadata": {},
   "outputs": [
    {
     "name": "stdout",
     "output_type": "stream",
     "text": [
      "{0: 0.0, 1: 0.0, 2: 0.1, 3: 0.0, 4: 0.5, 5: 0.5, 6: 1.0, 7: 2.0538, 8: 1.0, 9: 0.0, 10: 0.5349, 11: 0.0, 12: 0.0, 13: 1.4732, 14: 30786.9954, 15: 1.1769, 16: 0.5298, 17: 0.0, 18: 0.0, 19: 0.2837, 20: 0.2113, 21: 0.8088, 22: 0.8568, 23: 0.0, 24: 0.5908, 25: 0.0, 26: 0.0, 27: 0.0038, 28: 0.1804, 29: 1.0624, 30: 0.4296, 31: 1.436, 32: 0.0915, 33: 0.0, 34: 0.0, 35: 0.0, 36: 0.3116, 37: 1.9242, 38: 0.0, 39: 0.3193, 40: 0.0, 41: 1.7129, 42: 0.165, 43: 2.1958453273432277e+58, 44: 0.0, 45: 0.7241, 46: 3.377747476986203e+35, 47: 0.0, 48: 1.0506, 49: 6.07886745394726e+44, 50: 0.81}\n"
     ]
    }
   ],
   "source": [
    "for j in range(0,cntr2): \n",
    "    underpressure_inf[j]=growth_fun_under_pressure(t_ex2[j], prsr_ex2[j], n0_ex2[j], 150)\n",
    "\n",
    "print(underpressure_inf)"
   ]
  },
  {
   "cell_type": "code",
   "execution_count": 63,
   "metadata": {},
   "outputs": [
    {
     "name": "stdout",
     "output_type": "stream",
     "text": [
      "column added: n5_expected values added: [0.0, 0.0, 0.1689, 0.0, 0.5, 0.4996, 0.9485, 1.797, 1.0, 0.0, 0.5353, 0.0, 0.0004, 1.4463, 1.4753, 1.0672, 0.5298, 0.0138, 0.0, 0.2823, 0.2237, 0.8097, 0.8572, 0.0057, 0.599, 0.0178, 0.0, 0.0675, 0.173, 1.0454, 0.4296, 1.422, 0.0591, 0.0, 0.0216, 0.0073, 0.3116, 1.9242, 0.0001, 0.3192, 0.0016, 1.7067, 0.1881, 35.7849, 0.0222, 0.724, 2.4898, 0.0, 1.0506, 54.3968, 0.8056]\n"
     ]
    }
   ],
   "source": [
    "add_new_csv_column(\"./experiments_2.csv\", \"n5_expected\", underpressure)\n"
   ]
  },
  {
   "cell_type": "code",
   "execution_count": 73,
   "metadata": {},
   "outputs": [
    {
     "name": "stdout",
     "output_type": "stream",
     "text": [
      "column added: n150_expected values added: [0.0, 0.0, 0.1, 0.0, 0.5, 0.5, 1.0, 2.0538, 1.0, 0.0, 0.5349, 0.0, 0.0, 1.4732, 30786.9954, 1.1769, 0.5298, 0.0, 0.0, 0.2837, 0.2113, 0.8088, 0.8568, 0.0, 0.5908, 0.0, 0.0, 0.0038, 0.1804, 1.0624, 0.4296, 1.436, 0.0915, 0.0, 0.0, 0.0, 0.3116, 1.9242, 0.0, 0.3193, 0.0, 1.7129, 0.165, 2.1958453273432277e+58, 0.0, 0.7241, 3.377747476986203e+35, 0.0, 1.0506, 6.07886745394726e+44, 0.81]\n"
     ]
    }
   ],
   "source": [
    "add_new_csv_column(\"./experiments_2.csv\", \"n150_expected\", underpressure_inf)\n"
   ]
  }
 ],
 "metadata": {
  "kernelspec": {
   "display_name": "base",
   "language": "python",
   "name": "python3"
  },
  "language_info": {
   "codemirror_mode": {
    "name": "ipython",
    "version": 3
   },
   "file_extension": ".py",
   "mimetype": "text/x-python",
   "name": "python",
   "nbconvert_exporter": "python",
   "pygments_lexer": "ipython3",
   "version": "3.12.9"
  }
 },
 "nbformat": 4,
 "nbformat_minor": 2
}
